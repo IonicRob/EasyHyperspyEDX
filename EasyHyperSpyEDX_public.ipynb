{
 "cells": [
  {
   "cell_type": "markdown",
   "id": "91b7653d",
   "metadata": {},
   "source": [
    "# Oxford Micromechanics Group EasyHyperspyEDX\n",
    "## Written by R J Scales\n",
    "\n",
    "This Notebook was written for a consistent SEM EDX output from various softwares that are implimented.\n",
    "Benefits are the following:\n",
    "* Ability to analyse the data on any PC\n",
    "* Linear EDX colormaps\n",
    "* ROI analysis\n",
    "* and more...\n",
    "\n",
    "For more information contact me on Microsoft Teams or email:\n",
    "\n",
    "robert.scales@materials.ox.ac.uk\n",
    "\n",
    "https://www.researchgate.net/profile/Robert-Scales-5\n",
    "\n",
    "---\n",
    "\n",
    "This code can be run in one go but it is wise to run it cell-by-cell.\n",
    "If you unfamiliar with Jupyter Notebooks, it works on cells which are like MATLAB sections.\n",
    "A quick guide can be found here:\n",
    "https://realpython.com/jupyter-notebook-introduction/\n",
    "\n",
    "To completely refresh the Python Kernel, go to Kernel to see the various options.\n",
    "I recommend \"restart and clear output\""
   ]
  },
  {
   "cell_type": "markdown",
   "id": "58351cb6",
   "metadata": {},
   "source": [
    "### Section 1: Importing in Libaries\n",
    "* Need to have HyperSpy & NumPy\n",
    "* Anaconda has NumPy already\n",
    "* https://hyperspy.org/hyperspy-doc/current/user_guide/install.html"
   ]
  },
  {
   "cell_type": "code",
   "execution_count": 1,
   "id": "f68545ea",
   "metadata": {},
   "outputs": [],
   "source": [
    "# import hyperspy.io_plugins as pg\n",
    "import hyperspy.api as hs\n",
    "import hyperspy.io_plugins.bruker as bruker # Needed for *.bcf to be able to work\n",
    "import numpy as np\n",
    "import matplotlib.pyplot as plt\n",
    "import os\n",
    "# import PIL\n",
    "\n",
    "%matplotlib qt"
   ]
  },
  {
   "cell_type": "markdown",
   "id": "b4a3bf0d",
   "metadata": {},
   "source": [
    "### Section 2: User Settings\n",
    "The below are the variables which the user has to set or can optionally change."
   ]
  },
  {
   "cell_type": "markdown",
   "id": "b947ef8d",
   "metadata": {},
   "source": [
    "**filename**: Variable to the fullfile location of the EDX file which you want to analyse.\n",
    "\n",
    "So far the working filetypes are:\n",
    "* *.bcf"
   ]
  },
  {
   "cell_type": "code",
   "execution_count": 41,
   "id": "e8e420bf",
   "metadata": {},
   "outputs": [
    {
     "name": "stdout",
     "output_type": "stream",
     "text": [
      "Operating on file called \"I9 Side Low Current\"\n",
      "Working directory: C:\\Users\\mans3428\\OneDrive - Nexus365\\Documents\\Python Scripts\n",
      "Saving directory: //ajw-rs3618xs/AJWGroup_V8/Rob Scales SEM/EDX 2023-03-25\\HyperSpy\\I9 Side Low Current\n"
     ]
    }
   ],
   "source": [
    "filename = \"C:/Documents/I9 Side Low Current x2k top left.bcf\"\n",
    "# All \\ must be replaced with /\n",
    "\n",
    "head, tail = os.path.split(filename)\n",
    "tempTuple = os.path.splitext(tail)\n",
    "Name = tempTuple[0]\n",
    "\n",
    "mainpath = os.getcwd()\n",
    "savepath = os.path.join(head, \"HyperSpy\", Name)\n",
    "\n",
    "print(f'Operating on file called \"{Name}\"\\nWorking directory: {mainpath}\\nSaving directory: {savepath}')\n",
    "\n",
    "try:\n",
    "   os.makedirs(savepath)\n",
    "except FileExistsError:\n",
    "   # directory already exists\n",
    "   pass"
   ]
  },
  {
   "cell_type": "markdown",
   "id": "60e8d283",
   "metadata": {},
   "source": [
    "**DS**: Stands for *downsample* which is spatial binning of data. Useful if you have not left the scan on for long enough."
   ]
  },
  {
   "cell_type": "code",
   "execution_count": 42,
   "id": "e44fb557",
   "metadata": {},
   "outputs": [],
   "source": [
    "DS = 1"
   ]
  },
  {
   "cell_type": "markdown",
   "id": "698c1234",
   "metadata": {},
   "source": [
    "**kV_max**: This is the highest energy which you want to cut-off the EDX spectrum to, e.g. 5 kV if you collected the EDX at 5 kV. "
   ]
  },
  {
   "cell_type": "code",
   "execution_count": 43,
   "id": "c55e2026",
   "metadata": {},
   "outputs": [],
   "source": [
    "kV_max = 5"
   ]
  },
  {
   "cell_type": "markdown",
   "id": "ee18476c",
   "metadata": {},
   "source": [
    "**ColorMap**: Change the EDX color map to another valid *matplotlib* colormap. A recommended colormap is *viridis*."
   ]
  },
  {
   "cell_type": "code",
   "execution_count": 44,
   "id": "41ef1761",
   "metadata": {},
   "outputs": [],
   "source": [
    "ColorMap = 'viridis'"
   ]
  },
  {
   "cell_type": "markdown",
   "id": "d77bcd18",
   "metadata": {},
   "source": [
    "### Section 3: Loading Data and Plotting SE Image"
   ]
  },
  {
   "cell_type": "code",
   "execution_count": 45,
   "id": "e1bf6a29",
   "metadata": {},
   "outputs": [],
   "source": [
    "s = hs.load(filename, select_type='spectrum_image', downsample=DS, cutoff_at_kV=kV_max)\n",
    "s.plot()"
   ]
  },
  {
   "cell_type": "markdown",
   "id": "a705c0dc",
   "metadata": {},
   "source": [
    "### Section 4 (optional): Altering Elements in Loaded File to Analyse\n",
    "If you run this section, then it will alter the element list based on the elements you have added.\n",
    "I have mainly lifted from this page in the documentation and seems to be the best method I have found for this.\n",
    "\n",
    "An example for where you want to analyse just Al, Ni, and Co with the automatic use of X-ray peaks to analyse for those elements based on the energy used.\n",
    "```python\n",
    "s.set_elements(['Al', 'Ni', 'Co'])\n",
    "s.set_microscope_parameters(beam_energy=kV_max)\n",
    "s.set_lines([])\n",
    "```\n",
    "\n",
    "The following are also useful for this:\n",
    "\n",
    "http://hyperspy.org/hyperspy-doc/v1.3/api/hyperspy._signals.eds.html#hyperspy._signals.eds.EDS_mixin.set_elements\n",
    "\n",
    "http://hyperspy.org/hyperspy-doc/v1.3/api/hyperspy._signals.eds.html#hyperspy._signals.eds.EDS_mixin.add_elements"
   ]
  },
  {
   "cell_type": "code",
   "execution_count": 46,
   "id": "e3bbb361",
   "metadata": {},
   "outputs": [],
   "source": [
    "# For CMSX-4\n",
    "# https://cannonmuskegon.com/wp-content/uploads/2018/08/Improved-3rd-Generation-Single-Crystal-Superalloy-CMSX-4%C2%AE-Plus-SLS.pdf\n",
    "# ['Cr', 'Co', 'W', 'Mo', 'Ta', 'Re', 'Al', 'Ti', 'Hf', 'Ni']\n",
    "\n",
    "# s.set_elements(['Co', 'Mo','Al','Ni', 'O'])\n",
    "# s.set_microscope_parameters(beam_energy=kV_max)\n",
    "# s.set_lines([])"
   ]
  },
  {
   "cell_type": "markdown",
   "id": "91ad07f0",
   "metadata": {},
   "source": [
    "### Section 5: Region of Interest (ROI)\n",
    "The below calculates using NumPy the size of the EDX map and then can use that to select the whole image as the ROI.\n",
    "\n",
    "If you want **whole map** then set *roi* to the following:\n",
    "```python\n",
    "roi = hs.roi.RectangularROI(left=0, right=p[1], top=0, bottom=p[0])\n",
    "```\n",
    "\n",
    "For a smaller region of width *Width* and height *Height* in pixels, then change the line to the following and the ROI can be moved around in the window:\n",
    "```python\n",
    "roi = hs.roi.RectangularROI(left=0, right=Width, top=0, bottom=Height)\n",
    "```"
   ]
  },
  {
   "cell_type": "code",
   "execution_count": 47,
   "id": "429840ab",
   "metadata": {
    "scrolled": true
   },
   "outputs": [
    {
     "name": "stdout",
     "output_type": "stream",
     "text": [
      "Map dimension = [336 252]\n"
     ]
    }
   ],
   "source": [
    "p = np.shape(s.data)\n",
    "print(f\"Map dimension = [{p[1]} {p[0]}]\")\n",
    "\n",
    "roi = hs.roi.RectangularROI(left=0, right=p[1], top=0, bottom=p[0])\n",
    "im_roi = roi.interactive(s, color=\"red\")"
   ]
  },
  {
   "cell_type": "markdown",
   "id": "ddb832c7",
   "metadata": {},
   "source": [
    "### Section 6: Analysis\n",
    "This selects the data as whatever was within the ROI, which is usually a point of one pixel so this method is beneficial.\n",
    "\n",
    "Useful url:\n",
    "http://hyperspy.org/hyperspy-doc/current/user_guide/visualisation.html"
   ]
  },
  {
   "cell_type": "code",
   "execution_count": 48,
   "id": "3685d55b",
   "metadata": {},
   "outputs": [],
   "source": [
    "s_roi = roi(im_roi)"
   ]
  },
  {
   "cell_type": "markdown",
   "id": "a7c79163",
   "metadata": {},
   "source": [
    "#### §6.a Plot All Elements in ROI - Individual Colorbars\n",
    "Plots all of the elements added so far with individual scaling."
   ]
  },
  {
   "cell_type": "code",
   "execution_count": 49,
   "id": "2c73a02a",
   "metadata": {},
   "outputs": [],
   "source": [
    "eds_maps = s_roi.get_lines_intensity()\n",
    "hs.plot.plot_images(eds_maps, axes_decor='off', scalebar='all', cmap=ColorMap, colorbar='default') # , tight_layout=True\n",
    "plt.savefig(os.path.join(savepath, Name+' HyperSpy Maps Multi Colorbar.png'), transparent=True, dpi=300)\n",
    "plt.savefig(os.path.join(savepath, Name+' HyperSpy Maps Multi Colorbar.svg'), transparent=True)"
   ]
  },
  {
   "cell_type": "markdown",
   "id": "337031fc",
   "metadata": {},
   "source": [
    "#### §6.b Plot All Elements in ROI - Single Colorbar\n",
    "Plots all of the elements added so far with individual scaling."
   ]
  },
  {
   "cell_type": "code",
   "execution_count": 50,
   "id": "8dd6fac3",
   "metadata": {},
   "outputs": [],
   "source": [
    "eds_maps = s_roi.get_lines_intensity()\n",
    "hs.plot.plot_images(eds_maps, axes_decor='off', scalebar='all', cmap=ColorMap, colorbar='single') # , tight_layout=True\n",
    "plt.savefig(os.path.join(savepath, Name+' HyperSpy Maps Single Colorbar.png'), transparent=True, dpi=300)\n",
    "plt.savefig(os.path.join(savepath, Name+' HyperSpy Maps Single Colorbar.svg'), transparent=True)"
   ]
  },
  {
   "cell_type": "markdown",
   "id": "bb0ed565",
   "metadata": {},
   "source": [
    "#### §6.c Plot ROI Spectrum\n",
    "Plots the sum of the EDX spectrum from the points within the ROI."
   ]
  },
  {
   "cell_type": "code",
   "execution_count": 51,
   "id": "9e56e3f9",
   "metadata": {},
   "outputs": [
    {
     "name": "stderr",
     "output_type": "stream",
     "text": [
      "Traceback (most recent call last):\n",
      "  File \"C:\\Users\\mans3428\\AppData\\Local\\anaconda3\\lib\\site-packages\\matplotlib\\cbook\\__init__.py\", line 304, in process\n",
      "    func(*args, **kwargs)\n",
      "  File \"C:\\Users\\mans3428\\AppData\\Local\\anaconda3\\lib\\site-packages\\hyperspy\\drawing\\figure.py\", line 68, in _on_blit_draw\n",
      "    self._background = fig.canvas.copy_from_bbox(fig.bbox)\n",
      "AttributeError: 'FigureCanvasSVG' object has no attribute 'copy_from_bbox'\n"
     ]
    }
   ],
   "source": [
    "s_roi_sum = s_roi.sum((0,1))\n",
    "s_roi_sum.add_lines()\n",
    "s_roi_sum.plot(integration_windows='auto')\n",
    "plt.savefig(os.path.join(savepath, Name+' HyperSpy Spectrum.svg'), transparent=True)\n",
    "plt.savefig(os.path.join(savepath, Name+' HyperSpy Spectrum.png'), transparent=True, dpi=300)"
   ]
  },
  {
   "cell_type": "markdown",
   "id": "512c9b87",
   "metadata": {},
   "source": [
    "#### §6.d Plot All Elements in ROI Overlay\n",
    "If you want to plot certain elements then do the following:\n",
    "```python\n",
    "Elements2Show=['Ni_La', 'O_Ka']\n",
    "```\n",
    "**OR** to keep it the same as previously to have all the elements previously specificied then do:\n",
    "```python\n",
    "Elements2Show=None\n",
    "```"
   ]
  },
  {
   "cell_type": "code",
   "execution_count": 52,
   "id": "2ae1387a",
   "metadata": {},
   "outputs": [],
   "source": [
    "print(f\"The list of elments you can show are the following:\\n------>{s_roi.metadata.Sample.xray_lines}\")\n",
    "Elements2Show = ['Ni_La', 'O_Ka', 'C_Ka']\n",
    "Elements2ShowStr = ' '.join(Elements2Show)\n",
    "print(f\"Elements to be plotted are:\\n------>{Elements2ShowStr}\")\n",
    "eds_maps2 = s_roi.get_lines_intensity(xray_lines=Elements2Show)\n",
    "Colors = ['006BA4', 'FF800E', 'ABABAB', '595959', '5F9ED1', 'C85200', '898989', 'A2C8EC', 'FFBC79', 'CFCFCF']\n",
    "hs.plot.plot_images(eds_maps2,scalebar='all', overlay=True, suptitle=False, axes_decor='off')\n",
    "plt.savefig(os.path.join(savepath, Name+' HyperSpy EDX Overlay '+Elements2ShowStr+'.png'), transparent=True, dpi=300)\n",
    "plt.savefig(os.path.join(savepath, Name+' HyperSpy EDX Overlay '+Elements2ShowStr+'.svg'), transparent=True)"
   ]
  },
  {
   "cell_type": "markdown",
   "id": "3af9c3ee",
   "metadata": {},
   "source": [
    "#### §6.e Plot One Element\n",
    "Plots the sum of the EDX spectrum from the points within the ROI.\n",
    "\n",
    "If you want to plot a certain element then do the following:\n",
    "```python\n",
    "Element2Show=['O_Ka']\n",
    "```"
   ]
  },
  {
   "cell_type": "code",
   "execution_count": 53,
   "id": "381a5170",
   "metadata": {},
   "outputs": [],
   "source": [
    "Element2Show=['O_Ka']\n",
    "eds_maps3 = s_roi.get_lines_intensity(xray_lines=Element2Show)\n",
    "hs.plot.plot_images(eds_maps3, cmap=ColorMap, axes_decor='off', tight_layout=True)\n",
    "plt.savefig(os.path.join(savepath, Name+' HyperSpy EDX Overlay '+Element2Show[0]+'.png'), transparent=True, dpi=300)\n",
    "plt.savefig(os.path.join(savepath, Name+' HyperSpy EDX Overlay '+Element2Show[0]+'.svg'), transparent=True)"
   ]
  },
  {
   "cell_type": "markdown",
   "id": "a20cf306",
   "metadata": {},
   "source": [
    "## APPENDICES\n",
    "```python\n",
    "s.save('spectrum_eg')\n",
    "```\n",
    "\n",
    "The below converts it to numpy data:\n",
    "```python\n",
    "s_roi_np = s_roi.data\n",
    "```\n",
    "\n",
    "**Saving HyperSpy data**\n",
    "http://hyperspy.org/hyperspy-doc/v1.3/user_guide/io.html?highlight=save#saving-data-to-files\n",
    "\n",
    "**Loading HyperSpy Daya**\n",
    "http://hyperspy.org/hyperspy-doc/v1.3/user_guide/io.html?highlight=save#loading-files-the-load-function\n",
    "\n",
    "http://hyperspy.org/hyperspy-doc/v1.3/api/hyperspy._signals.eds.html#hyperspy._signals.eds.EDS_mixin.get_lines_intensity\n",
    "\n",
    "For the saving of figures the following resources are useful:\n",
    "https://stackoverflow.com/questions/32428193/saving-matplotlib-graphs-to-image-as-full-screen\n",
    "https://stackoverflow.com/questions/32428193/saving-matplotlib-graphs-to-image-as-full-screen"
   ]
  }
 ],
 "metadata": {
  "kernelspec": {
   "display_name": "Python 3 (ipykernel)",
   "language": "python",
   "name": "python3"
  },
  "language_info": {
   "codemirror_mode": {
    "name": "ipython",
    "version": 3
   },
   "file_extension": ".py",
   "mimetype": "text/x-python",
   "name": "python",
   "nbconvert_exporter": "python",
   "pygments_lexer": "ipython3",
   "version": "3.10.9"
  }
 },
 "nbformat": 4,
 "nbformat_minor": 5
}
