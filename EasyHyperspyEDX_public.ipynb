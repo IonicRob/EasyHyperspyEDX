{
 "cells": [
  {
   "cell_type": "markdown",
   "id": "130427e1",
   "metadata": {},
   "source": [
    "# Oxford Micromechanics Group EasyHyperspyEDX\n",
    "## Written by R J Scales\n",
    "\n",
    "This Notebook was written for a consistent SEM EDX output from various softwares that are implimented.\n",
    "Benefits are the following:\n",
    "* Ability to analyse the data on any PC\n",
    "* Linear EDX colormaps\n",
    "* ROI analysis\n",
    "* and more...\n",
    "\n",
    "For more information contact me on Microsoft Teams or email:\n",
    "\n",
    "robert.scales@materials.ox.ac.uk\n",
    "\n",
    "https://www.researchgate.net/profile/Robert-Scales-5\n",
    "\n",
    "---\n",
    "\n",
    "This code can be run in one go but it is wise to run it cell-by-cell.\n",
    "If you unfamiliar with Jupyter Notebooks, it works on cells which are like MATLAB sections.\n",
    "A quick guide can be found here:\n",
    "https://realpython.com/jupyter-notebook-introduction/\n",
    "\n",
    "To completely refresh the Python Kernel, go to Kernel to see the various options.\n",
    "I recommend \"restart and clear output\""
   ]
  },
  {
   "cell_type": "markdown",
   "id": "65c30562",
   "metadata": {},
   "source": [
    "### Section 1: Importing in Libaries\n",
    "* Need to have HyperSpy & NumPy\n",
    "* Anaconda has NumPy already\n",
    "* https://hyperspy.org/hyperspy-doc/current/user_guide/install.html"
   ]
  },
  {
   "cell_type": "code",
   "execution_count": null,
   "id": "f68545ea",
   "metadata": {},
   "outputs": [],
   "source": [
    "# import hyperspy.io_plugins as pg\n",
    "import hyperspy.api as hs\n",
    "import hyperspy.io_plugins.bruker as bruker # Needed for *.bcf to be able to work\n",
    "import numpy as np\n",
    "import matplotlib.pyplot as plt\n",
    "import os\n",
    "import platform\n",
    "\n",
    "%matplotlib qt"
   ]
  },
  {
   "cell_type": "markdown",
   "id": "463d7eba",
   "metadata": {},
   "source": [
    "### Section 2: User Settings\n",
    "The below are the variables which the user has to set or can optionally change."
   ]
  },
  {
   "cell_type": "markdown",
   "id": "dcae388a",
   "metadata": {},
   "source": [
    "**filename**: Variable to the fullfile location of the EDX file which you want to analyse.\n",
    "\n",
    "So far the working filetypes are:\n",
    "* *.bcf"
   ]
  },
  {
   "cell_type": "code",
   "execution_count": null,
   "id": "aa141bfc",
   "metadata": {},
   "outputs": [],
   "source": [
    "# plt.close(\"all\")\n",
    "\n",
    "# Replace \\ with / in full filepath\n",
    "filename = # insert full filepath here!\n",
    "\n",
    "# filename = filename.replace(\"\\\", \"//\")\n",
    "\n",
    "check_file = os.path.exists(filename)\n",
    "if filename == False:\n",
    "    print(\"Filename variable has not been found to exist!!\\nMake sure you have changed all \\ to /\")\n",
    "else:\n",
    "    print(\"Filename exists :)\")\n",
    "    head, tail = os.path.split(filename)\n",
    "    tempTuple = os.path.splitext(tail)\n",
    "    Name = tempTuple[0]\n",
    "\n",
    "    mainpath = os.getcwd()\n",
    "\n",
    "\n",
    "    print(\"The hostname of this device is = \",platform.node())\n",
    "    PCNAME = \"\" # Add your pc name here!\n",
    "    if platform.node() == PCNAME:\n",
    "        head = # This is the path which you want to save the data to. Like a master folder\n",
    "\n",
    "    savepath = os.path.join(head, \"HyperSpy\", Name)\n",
    "    savepath_svg = os.path.join(head, \"HyperSpy\", Name, 'files_svg')\n",
    "    savepath_elements_png = os.path.join(head, \"HyperSpy\", Name, 'Elements_png')\n",
    "    savepath_elements_svg = os.path.join(head, \"HyperSpy\", Name, 'Elements_svg')\n",
    "    print(f'Operating on file called \"{Name}\"\\nWorking directory: {mainpath}\\nSaving directory: {savepath}')\n",
    "\n",
    "    try:\n",
    "       os.makedirs(savepath)\n",
    "    except FileExistsError:\n",
    "       # directory already exists\n",
    "       pass\n",
    "\n",
    "    try:\n",
    "       os.makedirs(savepath_svg)\n",
    "    except FileExistsError:\n",
    "       # directory already exists\n",
    "       pass\n",
    "\n",
    "    try:\n",
    "       os.makedirs(savepath_elements_png)\n",
    "    except FileExistsError:\n",
    "       # directory already exists\n",
    "       pass\n",
    "    \n",
    "    try:\n",
    "       os.makedirs(savepath_elements_svg)\n",
    "    except FileExistsError:\n",
    "       # directory already exists\n",
    "       pass"
   ]
  },
  {
   "cell_type": "markdown",
   "id": "129328a8",
   "metadata": {},
   "source": [
    "**DS**: Stands for *downsample* which is spatial binning of data. Useful if you have not left the scan on for long enough."
   ]
  },
  {
   "cell_type": "code",
   "execution_count": null,
   "id": "2883d30d",
   "metadata": {},
   "outputs": [],
   "source": [
    "DS = 4"
   ]
  },
  {
   "cell_type": "markdown",
   "id": "92b297ad",
   "metadata": {},
   "source": [
    "**ColorMap**: Change the EDX color map to another valid *matplotlib* colormap. A recommended colormap is *viridis*."
   ]
  },
  {
   "cell_type": "code",
   "execution_count": null,
   "id": "c76867b0",
   "metadata": {},
   "outputs": [],
   "source": [
    "ColorMap = 'viridis'"
   ]
  },
  {
   "cell_type": "markdown",
   "id": "718572bc",
   "metadata": {},
   "source": [
    "### Section 3: Loading Data and Plotting SE Image"
   ]
  },
  {
   "cell_type": "code",
   "execution_count": null,
   "id": "e1bf6a29",
   "metadata": {},
   "outputs": [],
   "source": [
    "s = hs.load(filename, select_type='spectrum_image', downsample=DS)\n",
    "kV_max = s.metadata.Acquisition_instrument.SEM.beam_energy\n",
    "s = hs.load(filename, select_type='spectrum_image', downsample=DS, cutoff_at_kV=kV_max)\n",
    "s.plot()"
   ]
  },
  {
   "cell_type": "markdown",
   "id": "7b572182",
   "metadata": {},
   "source": [
    "### Section 4 (optional): Altering Elements in Loaded File to Analyse\n",
    "If you run this section, then it will alter the element list based on the elements you have added.\n",
    "I have mainly lifted from this page in the documentation and seems to be the best method I have found for this.\n",
    "\n",
    "An example for where you want to analyse just Al, Ni, and Co with the automatic use of X-ray peaks to analyse for those elements based on the energy used.\n",
    "```python\n",
    "s.set_elements(['Al', 'Ni', 'Co'])\n",
    "s.set_microscope_parameters(beam_energy=kV_max)\n",
    "s.set_lines([])\n",
    "```\n",
    "\n",
    "The following are also useful for this:\n",
    "\n",
    "http://hyperspy.org/hyperspy-doc/v1.3/api/hyperspy._signals.eds.html#hyperspy._signals.eds.EDS_mixin.set_elements\n",
    "\n",
    "http://hyperspy.org/hyperspy-doc/v1.3/api/hyperspy._signals.eds.html#hyperspy._signals.eds.EDS_mixin.add_elements"
   ]
  },
  {
   "cell_type": "code",
   "execution_count": null,
   "id": "f3fdbbbf",
   "metadata": {},
   "outputs": [],
   "source": [
    "print(f\"List of elements in file:\\n------>{s.metadata.Sample.xray_lines}\")\n",
    "\n",
    "SpecifyElements = False\n",
    "\n",
    "if SpecifyElements == True:\n",
    "    if kV_max > 6:\n",
    "        Elements2Set = ['Cr', 'Co', 'W', 'Ta', 'Al', 'Ni']\n",
    "    else:\n",
    "        Elements2Set = ['Co', 'W', 'Ta', 'Al', 'Ni', 'O', 'N', 'C']\n",
    "    s.set_elements(Elements2Set)\n",
    "#     s.set_microscope_parameters(beam_energy=kV_max)\n",
    "    s.set_lines([])\n",
    "\n",
    "    Elements2SetStr = ' '.join(Elements2Set)\n",
    "    print(f\"Elements to be plotted are:\\n------>{s.metadata.Sample.xray_lines}\")"
   ]
  },
  {
   "cell_type": "markdown",
   "id": "997b5c81",
   "metadata": {},
   "source": [
    "### Section 5: Region of Interest (ROI)\n",
    "The below calculates using NumPy the size of the EDX map and then can use that to select the whole image as the ROI.\n",
    "\n",
    "If you want **whole map** then set *roi* to the following:\n",
    "```python\n",
    "roi = hs.roi.RectangularROI(left=0, right=p[1], top=0, bottom=p[0])\n",
    "```\n",
    "\n",
    "For a smaller region of width *Width* and height *Height* in pixels, then change the line to the following and the ROI can be moved around in the window:\n",
    "```python\n",
    "roi = hs.roi.RectangularROI(left=0, right=Width, top=0, bottom=Height)\n",
    "```"
   ]
  },
  {
   "cell_type": "markdown",
   "id": "fdef3dfe",
   "metadata": {},
   "source": [
    "### Section 6: Analysis\n",
    "This selects the data as whatever was within the ROI, which is usually a point of one pixel so this method is beneficial.\n",
    "\n",
    "Useful url:\n",
    "http://hyperspy.org/hyperspy-doc/current/user_guide/visualisation.html"
   ]
  },
  {
   "cell_type": "code",
   "execution_count": null,
   "id": "429840ab",
   "metadata": {
    "scrolled": true
   },
   "outputs": [],
   "source": [
    "s3 = hs.load(filename, signal_type=\"EDS_SEM\")\n",
    "p = np.shape(s3[0])\n",
    "print(f\"Map dimension = [{p[1]} {p[0]}]\")\n",
    "\n",
    "roi = hs.roi.RectangularROI(left=0, right=p[1], top=0, bottom=p[0])\n",
    "im_roi = roi.interactive(s, color=\"red\")"
   ]
  },
  {
   "cell_type": "code",
   "execution_count": null,
   "id": "3685d55b",
   "metadata": {},
   "outputs": [],
   "source": [
    "s_roi = roi(im_roi)"
   ]
  },
  {
   "cell_type": "code",
   "execution_count": null,
   "id": "7abe2f32",
   "metadata": {},
   "outputs": [],
   "source": [
    "s2 = hs.load(filename, signal_type=\"EDS_SEM\")\n",
    "s2[0].plot()\n",
    "plt.savefig(os.path.join(savepath, Name+' HyperSpy SE.png'), transparent=True, dpi=300)\n",
    "plt.savefig(os.path.join(savepath_svg, Name+' HyperSpy SE.svg'), transparent=True)"
   ]
  },
  {
   "cell_type": "markdown",
   "id": "968d0165",
   "metadata": {},
   "source": [
    "#### §6.a Plot All Elements in ROI - Individual Colorbars\n",
    "Plots all of the elements added so far with individual scaling."
   ]
  },
  {
   "cell_type": "code",
   "execution_count": null,
   "id": "2c73a02a",
   "metadata": {},
   "outputs": [],
   "source": [
    "eds_maps = s_roi.get_lines_intensity()\n",
    "CurrElements = s_roi.metadata.Sample.xray_lines\n",
    "hs.plot.plot_images(eds_maps, axes_decor='off', scalebar='all', cmap=ColorMap, colorbar='default',\n",
    "                    namefrac_thresh=0.01, label=CurrElements,\n",
    "                    suptitle='X-ray Line Intensity of EDX:',\n",
    "                    padding={'top':0.8, 'bottom':0.10, 'left':0.05,\n",
    "                    'right':0.85, 'wspace':0.50, 'hspace':0.10}) # , tight_layout=True\n",
    "plt.savefig(os.path.join(savepath, Name+' HyperSpy Maps Multi Colorbar.png'), transparent=True, dpi=300)\n",
    "plt.savefig(os.path.join(savepath_svg, Name+' HyperSpy Maps Multi Colorbar.svg'), transparent=True)"
   ]
  },
  {
   "cell_type": "markdown",
   "id": "1597793e",
   "metadata": {},
   "source": [
    "#### §6.b Plot All Elements in ROI - Single Colorbar\n",
    "Plots all of the elements added so far with individual scaling."
   ]
  },
  {
   "cell_type": "code",
   "execution_count": null,
   "id": "a1ce5664",
   "metadata": {},
   "outputs": [],
   "source": [
    "eds_maps = s_roi.get_lines_intensity()\n",
    "CurrElements = s_roi.metadata.Sample.xray_lines\n",
    "\n",
    "hs.plot.plot_images(eds_maps, axes_decor='off', scalebar='all', cmap=ColorMap, colorbar='single',\n",
    "                    namefrac_thresh=0.01, label=CurrElements,\n",
    "                    suptitle='X-ray Line Intensity of EDX:',\n",
    "                    padding={'top':0.8, 'bottom':0.10, 'left':0.05,\n",
    "                    'right':0.85, 'wspace':0.50, 'hspace':0.10}) # , tight_layout=True) # , tight_layout=True\n",
    "plt.savefig(os.path.join(savepath, Name+' HyperSpy Maps Single Colorbar.png'), transparent=True, dpi=300)\n",
    "plt.savefig(os.path.join(savepath_svg, Name+' HyperSpy Maps Single Colorbar.svg'), transparent=True)"
   ]
  },
  {
   "cell_type": "markdown",
   "id": "39cae3c2",
   "metadata": {},
   "source": [
    "#### §6.c Plot ROI Spectrum\n",
    "Plots the sum of the EDX spectrum from the points within the ROI."
   ]
  },
  {
   "cell_type": "code",
   "execution_count": null,
   "id": "d4b41d02",
   "metadata": {},
   "outputs": [],
   "source": [
    "s_roi_sum = s_roi.sum((0,1))\n",
    "s_roi_sum.add_lines()\n",
    "s_roi_sum.plot(integration_windows='auto', xray_lines=True)\n",
    "#plt.savefig(os.path.join(savepath_svg, Name+' HyperSpy Spectrum.svg'), transparent=True)\n",
    "#plt.savefig(os.path.join(savepath, Name+' HyperSpy Spectrum.png'), transparent=True, dpi=300)"
   ]
  },
  {
   "cell_type": "markdown",
   "id": "75defe6c",
   "metadata": {},
   "source": [
    "#### §6.d Plot All Elements in ROI Overlay\n",
    "If you want to plot certain elements then do the following:\n",
    "```python\n",
    "Elements2Show=['Ni_La', 'O_Ka']\n",
    "```\n",
    "**OR** to keep it the same as previously to have all the elements previously specificied then do:\n",
    "```python\n",
    "Elements2Show=None\n",
    "```"
   ]
  },
  {
   "cell_type": "code",
   "execution_count": null,
   "id": "91ae2f54",
   "metadata": {},
   "outputs": [],
   "source": [
    "# print(f\"The list of elments you can show are the following:\\n------>{s_roi.metadata.Sample.xray_lines}\")\n",
    "# Elements2Show = ['Ni_La', 'O_Ka', 'C_Ka']\n",
    "# Elements2ShowStr = ' '.join(Elements2Show)\n",
    "# print(f\"Elements to be plotted are:\\n------>{Elements2ShowStr}\")\n",
    "# eds_maps2 = s_roi.get_lines_intensity(xray_lines=Elements2Show)\n",
    "# Colors = ['006BA4', 'FF800E', 'ABABAB', '595959', '5F9ED1', 'C85200', '898989', 'A2C8EC', 'FFBC79', 'CFCFCF']\n",
    "# hs.plot.plot_images(eds_maps2,scalebar='all', overlay=True, suptitle=False, axes_decor='off')\n",
    "# plt.savefig(os.path.join(savepath, Name+' HyperSpy EDX Overlay '+Elements2ShowStr+'.png'), transparent=True, dpi=300)\n",
    "# plt.savefig(os.path.join(savepath_svg, Name+' HyperSpy EDX Overlay '+Elements2ShowStr+'.svg'), transparent=True)"
   ]
  },
  {
   "cell_type": "markdown",
   "id": "6f42aae1",
   "metadata": {},
   "source": [
    "#### §6.e Plot One Element\n",
    "Plots the sum of the EDX spectrum from the points within the ROI.\n",
    "\n",
    "If you want to plot a certain element then do the following:\n",
    "```python\n",
    "Element2Show=['O_Ka']\n",
    "```"
   ]
  },
  {
   "cell_type": "code",
   "execution_count": null,
   "id": "e0ffa79d",
   "metadata": {},
   "outputs": [],
   "source": [
    "# Element2Show=['O_Ka']\n",
    "# eds_maps3 = s_roi.get_lines_intensity(xray_lines=Element2Show)\n",
    "# hs.plot.plot_images(eds_maps3, cmap=ColorMap, axes_decor='off', tight_layout=True)\n",
    "# plt.savefig(os.path.join(savepath, Name+' HyperSpy EDX Overlay '+Element2Show[0]+'.png'), transparent=True, dpi=300)\n",
    "# plt.savefig(os.path.join(savepath_svg, Name+' HyperSpy EDX Overlay '+Element2Show[0]+'.svg'), transparent=True)"
   ]
  },
  {
   "cell_type": "markdown",
   "id": "c64c2f6d",
   "metadata": {},
   "source": [
    "#### §6.f Plot Each Element"
   ]
  },
  {
   "cell_type": "code",
   "execution_count": null,
   "id": "fdabe340",
   "metadata": {},
   "outputs": [],
   "source": [
    "ElementsStored = s_roi.metadata.Sample.xray_lines\n",
    "for El in ElementsStored:\n",
    "    print(f\"El = {El}\")\n",
    "    eds_maps4 = s_roi.get_lines_intensity(xray_lines=[El])\n",
    "    hs.plot.plot_images(eds_maps4, cmap=ColorMap, axes_decor='off', tight_layout=True)\n",
    "    plt.savefig(os.path.join(savepath_elements_png, Name+' HyperSpy EDX Overlay '+El+'.png'), transparent=True, dpi=300)\n",
    "    plt.savefig(os.path.join(savepath_elements_svg, Name+' HyperSpy EDX Overlay '+El+'.svg'), transparent=True)\n",
    "    plt.close()\n",
    "    Interesting = eds_maps4[0]\n",
    "    Interesting.save('map'+El+'.hspy')"
   ]
  },
  {
   "cell_type": "markdown",
   "id": "3227d173",
   "metadata": {},
   "source": [
    "## APPENDICES\n",
    "```python\n",
    "s.save('spectrum_eg')\n",
    "```\n",
    "\n",
    "The below converts it to numpy data:\n",
    "```python\n",
    "s_roi_np = s_roi.data\n",
    "```\n",
    "\n",
    "**Saving HyperSpy data**\n",
    "http://hyperspy.org/hyperspy-doc/v1.3/user_guide/io.html?highlight=save#saving-data-to-files\n",
    "\n",
    "**Loading HyperSpy Daya**\n",
    "http://hyperspy.org/hyperspy-doc/v1.3/user_guide/io.html?highlight=save#loading-files-the-load-function\n",
    "\n",
    "http://hyperspy.org/hyperspy-doc/v1.3/api/hyperspy._signals.eds.html#hyperspy._signals.eds.EDS_mixin.get_lines_intensity\n",
    "\n",
    "For the saving of figures the following resources are useful:\n",
    "https://stackoverflow.com/questions/32428193/saving-matplotlib-graphs-to-image-as-full-screen\n",
    "https://stackoverflow.com/questions/32428193/saving-matplotlib-graphs-to-image-as-full-screen"
   ]
  },
  {
   "cell_type": "code",
   "execution_count": null,
   "id": "ca616a82-4cbb-4677-8dd9-8b1257be03d1",
   "metadata": {},
   "outputs": [],
   "source": []
  }
 ],
 "metadata": {
  "kernelspec": {
   "display_name": "Python 3 (ipykernel)",
   "language": "python",
   "name": "python3"
  },
  "language_info": {
   "codemirror_mode": {
    "name": "ipython",
    "version": 3
   },
   "file_extension": ".py",
   "mimetype": "text/x-python",
   "name": "python",
   "nbconvert_exporter": "python",
   "pygments_lexer": "ipython3",
   "version": "3.10.9"
  }
 },
 "nbformat": 4,
 "nbformat_minor": 5
}
